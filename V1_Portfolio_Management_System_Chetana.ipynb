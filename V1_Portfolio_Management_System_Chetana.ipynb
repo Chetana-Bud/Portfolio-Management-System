{
  "nbformat": 4,
  "nbformat_minor": 0,
  "metadata": {
    "colab": {
      "provenance": []
    },
    "kernelspec": {
      "name": "python3",
      "display_name": "Python 3"
    },
    "language_info": {
      "name": "python"
    }
  },
  "cells": [
    {
      "cell_type": "code",
      "execution_count": null,
      "metadata": {
        "id": "jaVDlS9jRh41"
      },
      "outputs": [],
      "source": [
        "# Importing required libraries\n",
        "import pandas as pd\n",
        "import numpy as np\n",
        "import matplotlib.pyplot as plt\n",
        "from sklearn.cluster import KMeans\n",
        "from sklearn.metrics import silhouette_score\n",
        "import random"
      ]
    },
    {
      "cell_type": "code",
      "source": [
        "# Simulated Annealing parameters\n",
        "T = 1000  # Initial temperature\n",
        "alpha = 0.95  # Cooling rate\n",
        "num_iterations = 100  # Number of iterations at each temperature"
      ],
      "metadata": {
        "id": "YvnrmVPlTGE9"
      },
      "execution_count": null,
      "outputs": []
    },
    {
      "cell_type": "code",
      "source": [
        "# Load the dataset\n",
        "data = pd.read_excel('/content/preprocessed_data 1.xlsx')  # Modify the file name if needed\n",
        "\n",
        "# Drop the 'Datex' column\n",
        "if 'Date_x' in data.columns:\n",
        "    data = data.drop(columns=['Date_x'])\n",
        "\n",
        "data = data.select_dtypes(include=[np.number])  # Ensure only numeric columns are used\n",
        "\n",
        "# Handle missing values (NaN) using imputation\n",
        "from sklearn.impute import SimpleImputer\n",
        "imputer = SimpleImputer(strategy='mean') # You can choose different strategies like 'median' or 'most_frequent'\n",
        "data = pd.DataFrame(imputer.fit_transform(data), columns=data.columns)\n",
        "\n",
        "X = data.values  # Converting data to numpy array for clustering"
      ],
      "metadata": {
        "id": "8n7D40rtTLzK"
      },
      "execution_count": null,
      "outputs": []
    },
    {
      "cell_type": "code",
      "source": [
        "# Function to calculate the K-Means cost (within-cluster sum of squares)\n",
        "def kmeans_cost(X, labels, centroids):\n",
        "    cost = 0\n",
        "    for i, c in enumerate(centroids):\n",
        "        cost += np.sum((X[labels == i] - c) ** 2)\n",
        "    return cost"
      ],
      "metadata": {
        "id": "thCiyfBBTT10"
      },
      "execution_count": null,
      "outputs": []
    },
    {
      "cell_type": "code",
      "source": [
        "# Function to perform K-Means clustering\n",
        "def perform_kmeans(X, n_clusters):\n",
        "    kmeans = KMeans(n_clusters=n_clusters, n_init=1)\n",
        "    kmeans.fit(X)\n",
        "    return kmeans.labels_, kmeans.cluster_centers_, kmeans.inertia_"
      ],
      "metadata": {
        "id": "yESZMXeCTbhV"
      },
      "execution_count": null,
      "outputs": []
    },
    {
      "cell_type": "code",
      "source": [
        "# Simulated Annealing for K-Means optimization\n",
        "def simulated_annealing(X, n_clusters):\n",
        "    # Initial K-Means clustering\n",
        "    best_labels, best_centroids, best_cost = perform_kmeans(X, n_clusters)\n",
        "    current_labels, current_centroids = best_labels, best_centroids\n",
        "    current_cost = best_cost\n",
        "\n",
        "    temp = T  # Start with initial temperature\n",
        "\n",
        "    for i in range(num_iterations):\n",
        "        # Perform a small perturbation (slightly changing centroids)\n",
        "        perturbed_centroids = current_centroids + np.random.normal(0, 0.1, current_centroids.shape)\n",
        "\n",
        "        # Assign points to the nearest perturbed centroid\n",
        "        perturbed_labels = np.argmin(np.linalg.norm(X[:, np.newaxis] - perturbed_centroids, axis=2), axis=1)\n",
        "\n",
        "        # Calculate cost for new configuration\n",
        "        perturbed_cost = kmeans_cost(X, perturbed_labels, perturbed_centroids)\n",
        "\n",
        "        # Acceptance probability\n",
        "        if perturbed_cost < current_cost or random.random() < np.exp(-(perturbed_cost - current_cost) / temp):\n",
        "            current_labels, current_centroids, current_cost = perturbed_labels, perturbed_centroids, perturbed_cost\n",
        "\n",
        "        # Update the best solution if necessary\n",
        "        if current_cost < best_cost:\n",
        "            best_labels, best_centroids, best_cost = current_labels, current_centroids, current_cost\n",
        "\n",
        "        # Cool down the temperature\n",
        "        temp *= alpha\n",
        "\n",
        "        print(f\"Iteration {i+1}/{num_iterations}, Best Cost: {best_cost}\")\n",
        "\n",
        "    return best_labels, best_centroids, best_cost"
      ],
      "metadata": {
        "id": "_y0Pzo5OTwN1"
      },
      "execution_count": null,
      "outputs": []
    },
    {
      "cell_type": "code",
      "source": [
        "# Running Simulated Annealing on your data\n",
        "n_clusters = 3  # You can change the number of clusters as needed\n",
        "best_labels, best_centroids, best_cost = simulated_annealing(X, n_clusters)"
      ],
      "metadata": {
        "colab": {
          "base_uri": "https://localhost:8080/"
        },
        "collapsed": true,
        "id": "B4BVHPqHT-Pv",
        "outputId": "cd928d64-7581-48ab-ad52-7de6a14c31fc"
      },
      "execution_count": null,
      "outputs": [
        {
          "output_type": "stream",
          "name": "stdout",
          "text": [
            "Iteration 1/100, Best Cost: 1.2413017285516783e+27\n",
            "Iteration 2/100, Best Cost: 1.2413017285516783e+27\n",
            "Iteration 3/100, Best Cost: 1.2413017285516783e+27\n",
            "Iteration 4/100, Best Cost: 1.2413017285516783e+27\n",
            "Iteration 5/100, Best Cost: 1.2413017285516783e+27\n",
            "Iteration 6/100, Best Cost: 1.2413017285516783e+27\n",
            "Iteration 7/100, Best Cost: 1.2413017285516783e+27\n",
            "Iteration 8/100, Best Cost: 1.2413017285516783e+27\n",
            "Iteration 9/100, Best Cost: 1.2413017285516783e+27\n",
            "Iteration 10/100, Best Cost: 1.2413017285516783e+27\n",
            "Iteration 11/100, Best Cost: 1.2413017285516783e+27\n",
            "Iteration 12/100, Best Cost: 1.2413017285516783e+27\n",
            "Iteration 13/100, Best Cost: 1.2413017285516783e+27\n",
            "Iteration 14/100, Best Cost: 1.2413017285516783e+27\n",
            "Iteration 15/100, Best Cost: 1.2413017285516783e+27\n",
            "Iteration 16/100, Best Cost: 1.2413017285516783e+27\n",
            "Iteration 17/100, Best Cost: 1.2413017285516783e+27\n",
            "Iteration 18/100, Best Cost: 1.2413017285516783e+27\n",
            "Iteration 19/100, Best Cost: 1.2413017285516783e+27\n",
            "Iteration 20/100, Best Cost: 1.2413017285516783e+27\n",
            "Iteration 21/100, Best Cost: 1.2413017285516783e+27\n",
            "Iteration 22/100, Best Cost: 1.2413017285516783e+27\n",
            "Iteration 23/100, Best Cost: 1.2413017285516783e+27\n",
            "Iteration 24/100, Best Cost: 1.2413017285516783e+27\n",
            "Iteration 25/100, Best Cost: 1.2413017285516783e+27\n",
            "Iteration 26/100, Best Cost: 1.2413017285516783e+27\n",
            "Iteration 27/100, Best Cost: 1.2413017285516783e+27\n",
            "Iteration 28/100, Best Cost: 1.2413017285516783e+27\n",
            "Iteration 29/100, Best Cost: 1.2413017285516783e+27\n",
            "Iteration 30/100, Best Cost: 1.2413017285516783e+27\n",
            "Iteration 31/100, Best Cost: 1.2413017285516783e+27\n",
            "Iteration 32/100, Best Cost: 1.2413017285516783e+27\n",
            "Iteration 33/100, Best Cost: 1.2413017285516783e+27\n",
            "Iteration 34/100, Best Cost: 1.2413017285516783e+27\n",
            "Iteration 35/100, Best Cost: 1.2413017285516783e+27\n",
            "Iteration 36/100, Best Cost: 1.2413017285516783e+27\n",
            "Iteration 37/100, Best Cost: 1.2413017285516783e+27\n",
            "Iteration 38/100, Best Cost: 1.2413017285516783e+27\n",
            "Iteration 39/100, Best Cost: 1.2413017285516783e+27\n",
            "Iteration 40/100, Best Cost: 1.2413017285516783e+27\n",
            "Iteration 41/100, Best Cost: 1.2413017285516783e+27\n",
            "Iteration 42/100, Best Cost: 1.2413017285516783e+27\n",
            "Iteration 43/100, Best Cost: 1.2413017285516783e+27\n",
            "Iteration 44/100, Best Cost: 1.2413017285516783e+27\n",
            "Iteration 45/100, Best Cost: 1.2413017285516783e+27\n",
            "Iteration 46/100, Best Cost: 1.2413017285516783e+27\n",
            "Iteration 47/100, Best Cost: 1.2413017285516783e+27\n",
            "Iteration 48/100, Best Cost: 1.2413017285516783e+27\n",
            "Iteration 49/100, Best Cost: 1.2413017285516783e+27\n",
            "Iteration 50/100, Best Cost: 1.2413017285516783e+27\n",
            "Iteration 51/100, Best Cost: 1.2413017285516783e+27\n",
            "Iteration 52/100, Best Cost: 1.2413017285516783e+27\n",
            "Iteration 53/100, Best Cost: 1.2413017285516783e+27\n",
            "Iteration 54/100, Best Cost: 1.2413017285516783e+27\n",
            "Iteration 55/100, Best Cost: 1.2413017285516783e+27\n",
            "Iteration 56/100, Best Cost: 1.2413017285516783e+27\n",
            "Iteration 57/100, Best Cost: 1.2413017285516783e+27\n",
            "Iteration 58/100, Best Cost: 1.2413017285516783e+27\n",
            "Iteration 59/100, Best Cost: 1.2413017285516783e+27\n",
            "Iteration 60/100, Best Cost: 1.2413017285516783e+27\n",
            "Iteration 61/100, Best Cost: 1.2413017285516783e+27\n",
            "Iteration 62/100, Best Cost: 1.2413017285516783e+27\n",
            "Iteration 63/100, Best Cost: 1.2413017285516783e+27\n",
            "Iteration 64/100, Best Cost: 1.2413017285516783e+27\n",
            "Iteration 65/100, Best Cost: 1.2413017285516783e+27\n",
            "Iteration 66/100, Best Cost: 1.2413017285516783e+27\n",
            "Iteration 67/100, Best Cost: 1.2413017285516783e+27\n",
            "Iteration 68/100, Best Cost: 1.2413017285516783e+27\n",
            "Iteration 69/100, Best Cost: 1.2413017285516783e+27\n",
            "Iteration 70/100, Best Cost: 1.2413017285516783e+27\n",
            "Iteration 71/100, Best Cost: 1.2413017285516783e+27\n",
            "Iteration 72/100, Best Cost: 1.2413017285516783e+27\n",
            "Iteration 73/100, Best Cost: 1.2413017285516783e+27\n",
            "Iteration 74/100, Best Cost: 1.2413017285516783e+27\n",
            "Iteration 75/100, Best Cost: 1.2413017285516783e+27\n",
            "Iteration 76/100, Best Cost: 1.2413017285516783e+27\n",
            "Iteration 77/100, Best Cost: 1.2413017285516783e+27\n",
            "Iteration 78/100, Best Cost: 1.2413017285516783e+27\n",
            "Iteration 79/100, Best Cost: 1.2413017285516783e+27\n",
            "Iteration 80/100, Best Cost: 1.2413017285516783e+27\n",
            "Iteration 81/100, Best Cost: 1.2413017285516783e+27\n",
            "Iteration 82/100, Best Cost: 1.2413017285516783e+27\n",
            "Iteration 83/100, Best Cost: 1.2413017285516783e+27\n",
            "Iteration 84/100, Best Cost: 1.2413017285516783e+27\n",
            "Iteration 85/100, Best Cost: 1.2413017285516783e+27\n",
            "Iteration 86/100, Best Cost: 1.2413017285516783e+27\n",
            "Iteration 87/100, Best Cost: 1.2413017285516783e+27\n",
            "Iteration 88/100, Best Cost: 1.2413017285516783e+27\n",
            "Iteration 89/100, Best Cost: 1.2413017285516783e+27\n",
            "Iteration 90/100, Best Cost: 1.2413017285516783e+27\n",
            "Iteration 91/100, Best Cost: 1.2413017285516783e+27\n",
            "Iteration 92/100, Best Cost: 1.2413017285516783e+27\n",
            "Iteration 93/100, Best Cost: 1.2413017285516783e+27\n",
            "Iteration 94/100, Best Cost: 1.2413017285516783e+27\n",
            "Iteration 95/100, Best Cost: 1.2413017285516783e+27\n",
            "Iteration 96/100, Best Cost: 1.2413017285516783e+27\n",
            "Iteration 97/100, Best Cost: 1.2413017285516783e+27\n",
            "Iteration 98/100, Best Cost: 1.2413017285516783e+27\n",
            "Iteration 99/100, Best Cost: 1.2413017285516783e+27\n",
            "Iteration 100/100, Best Cost: 1.2413017285516783e+27\n"
          ]
        }
      ]
    },
    {
      "cell_type": "code",
      "source": [
        "# Visualize the clustering result\n",
        "plt.scatter(X[:, 0], X[:, 1], c=best_labels, cmap='viridis')\n",
        "plt.scatter(best_centroids[:, 0], best_centroids[:, 1], color='red', marker='x')\n",
        "plt.title(f\"Best Clustering Result (Cost: {best_cost})\")\n",
        "plt.show()"
      ],
      "metadata": {
        "colab": {
          "base_uri": "https://localhost:8080/",
          "height": 452
        },
        "id": "vDCemjhIUArT",
        "outputId": "b670ba21-f331-4cff-ab78-5391a1ad7115"
      },
      "execution_count": null,
      "outputs": [
        {
          "output_type": "display_data",
          "data": {
            "text/plain": [
              "<Figure size 640x480 with 1 Axes>"
            ],
            "image/png": "[encoded data removed]"
          },
          "metadata": {}
        }
      ]
    }
  ]
}